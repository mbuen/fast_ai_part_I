{
 "cells": [
  {
   "cell_type": "code",
   "execution_count": 7,
   "metadata": {},
   "outputs": [],
   "source": [
    "import ipywidgets\n",
    "\n",
    "from fastai.vision.widgets import *\n",
    "from fastbook import *\n",
    "\n",
    "#!pip install voila;\n",
    "#!jupyter serverextension enable voila --sys-prefix;"
   ]
  },
  {
   "cell_type": "code",
   "execution_count": 9,
   "metadata": {},
   "outputs": [],
   "source": [
    "\n",
    "\n",
    "# Create upload button\n",
    "btn_upload = ipywidgets.FileUpload()\n",
    "# Create classify button\n",
    "class_btn = ipywidgets.Button(description='Classify')\n",
    "# Create image thumb\n",
    "output = ipywidgets.Output()\n",
    "# Create labels\n",
    "labels = ipywidgets.Label()\n",
    "\n",
    "# Load model\n",
    "learn_inf = load_learner(Path()/'export.pkl')\n",
    "\n",
    "def on_click_classify(a):\n",
    "    # show image\n",
    "    img = PILImage.create(btn_upload.data[-1])\n",
    "    output.clear_output()\n",
    "    with output: display(img.to_thumb(128,128))\n",
    "    \n",
    "    # predict\n",
    "    img_class, img_int, img_probs = learn_inf.predict(img)\n",
    "    \n",
    "    # Format outputs\n",
    "    labels.value = f\"I AM {img_probs[img_int]*100}% SURE IT'S A {img_class.capitalize()} BEAAAAAAAAAAAR!!!\"\n",
    "\n",
    "# add event to button\n",
    "class_btn.on_click(on_click_classify)\n",
    "\n",
    "# display interface\n",
    "VBox([widgets.Label('Select your bear!'), \n",
    "      btn_upload, class_btn, output, labels])"
   ]
  },
  {
   "cell_type": "code",
   "execution_count": null,
   "metadata": {},
   "outputs": [],
   "source": []
  }
 ],
 "metadata": {
  "kernelspec": {
   "display_name": "Python 3",
   "language": "python",
   "name": "python3"
  },
  "language_info": {
   "codemirror_mode": {
    "name": "ipython",
    "version": 3
   },
   "file_extension": ".py",
   "mimetype": "text/x-python",
   "name": "python",
   "nbconvert_exporter": "python",
   "pygments_lexer": "ipython3",
   "version": "3.8.5"
  }
 },
 "nbformat": 4,
 "nbformat_minor": 4
}
